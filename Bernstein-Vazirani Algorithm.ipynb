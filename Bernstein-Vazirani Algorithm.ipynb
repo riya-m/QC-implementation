{
 "cells": [
  {
   "cell_type": "code",
   "execution_count": 2,
   "metadata": {},
   "outputs": [],
   "source": [
    "from qiskit import *\n",
    "from qiskit.tools.visualization import plot_histogram\n",
    "import numpy as np"
   ]
  },
  {
   "cell_type": "code",
   "execution_count": 6,
   "metadata": {},
   "outputs": [],
   "source": [
    "n = 10\n",
    "s = '1010110101'"
   ]
  },
  {
   "cell_type": "code",
   "execution_count": 8,
   "metadata": {},
   "outputs": [],
   "source": [
    "def oracle(n):\n",
    "    qc_oracle = QuantumCircuit(n+1)\n",
    "    for i in range(n):\n",
    "        if s[i] == '1':\n",
    "            qc_oracle.cx(i,n)\n",
    "    oracle_gate = qc_oracle.to_gate()\n",
    "    oracle_gate.name = \"Oracle\"\n",
    "    return oracle_gate"
   ]
  },
  {
   "cell_type": "code",
   "execution_count": 13,
   "metadata": {},
   "outputs": [],
   "source": [
    "qc = QuantumCircuit(n+1,n)\n",
    "qc.x(n)\n",
    "for i in range(n+1):\n",
    "    qc.h(i)\n",
    "\n",
    "qc.append(oracle(n),range(n+1))\n",
    "\n",
    "for i in range(n):\n",
    "    qc.h(i)\n",
    "\n",
    "for i in range(n):\n",
    "    qc.measure(i,i)"
   ]
  },
  {
   "cell_type": "code",
   "execution_count": 14,
   "metadata": {},
   "outputs": [
    {
     "data": {
      "text/html": [
       "<pre style=\"word-wrap: normal;white-space: pre;background: #fff0;line-height: 1.1;font-family: &quot;Courier New&quot;,Courier,monospace\">      ┌───┐     ┌──────────┐┌───┐┌─┐                           \n",
       " q_0: ┤ H ├─────┤0         ├┤ H ├┤M├───────────────────────────\n",
       "      ├───┤     │          │├───┤└╥┘┌─┐                        \n",
       " q_1: ┤ H ├─────┤1         ├┤ H ├─╫─┤M├────────────────────────\n",
       "      ├───┤     │          │├───┤ ║ └╥┘┌─┐                     \n",
       " q_2: ┤ H ├─────┤2         ├┤ H ├─╫──╫─┤M├─────────────────────\n",
       "      ├───┤     │          │├───┤ ║  ║ └╥┘┌─┐                  \n",
       " q_3: ┤ H ├─────┤3         ├┤ H ├─╫──╫──╫─┤M├──────────────────\n",
       "      ├───┤     │          │├───┤ ║  ║  ║ └╥┘┌─┐               \n",
       " q_4: ┤ H ├─────┤4         ├┤ H ├─╫──╫──╫──╫─┤M├───────────────\n",
       "      ├───┤     │          │├───┤ ║  ║  ║  ║ └╥┘┌─┐            \n",
       " q_5: ┤ H ├─────┤5  Oracle ├┤ H ├─╫──╫──╫──╫──╫─┤M├────────────\n",
       "      ├───┤     │          │├───┤ ║  ║  ║  ║  ║ └╥┘┌─┐         \n",
       " q_6: ┤ H ├─────┤6         ├┤ H ├─╫──╫──╫──╫──╫──╫─┤M├─────────\n",
       "      ├───┤     │          │├───┤ ║  ║  ║  ║  ║  ║ └╥┘┌─┐      \n",
       " q_7: ┤ H ├─────┤7         ├┤ H ├─╫──╫──╫──╫──╫──╫──╫─┤M├──────\n",
       "      ├───┤     │          │├───┤ ║  ║  ║  ║  ║  ║  ║ └╥┘┌─┐   \n",
       " q_8: ┤ H ├─────┤8         ├┤ H ├─╫──╫──╫──╫──╫──╫──╫──╫─┤M├───\n",
       "      ├───┤     │          │├───┤ ║  ║  ║  ║  ║  ║  ║  ║ └╥┘┌─┐\n",
       " q_9: ┤ H ├─────┤9         ├┤ H ├─╫──╫──╫──╫──╫──╫──╫──╫──╫─┤M├\n",
       "      ├───┤┌───┐│          │└───┘ ║  ║  ║  ║  ║  ║  ║  ║  ║ └╥┘\n",
       "q_10: ┤ X ├┤ H ├┤10        ├──────╫──╫──╫──╫──╫──╫──╫──╫──╫──╫─\n",
       "      └───┘└───┘└──────────┘      ║  ║  ║  ║  ║  ║  ║  ║  ║  ║ \n",
       "c: 10/════════════════════════════╩══╩══╩══╩══╩══╩══╩══╩══╩══╩═\n",
       "                                  0  1  2  3  4  5  6  7  8  9 </pre>"
      ],
      "text/plain": [
       "      ┌───┐     ┌──────────┐┌───┐┌─┐                           \n",
       " q_0: ┤ H ├─────┤0         ├┤ H ├┤M├───────────────────────────\n",
       "      ├───┤     │          │├───┤└╥┘┌─┐                        \n",
       " q_1: ┤ H ├─────┤1         ├┤ H ├─╫─┤M├────────────────────────\n",
       "      ├───┤     │          │├───┤ ║ └╥┘┌─┐                     \n",
       " q_2: ┤ H ├─────┤2         ├┤ H ├─╫──╫─┤M├─────────────────────\n",
       "      ├───┤     │          │├───┤ ║  ║ └╥┘┌─┐                  \n",
       " q_3: ┤ H ├─────┤3         ├┤ H ├─╫──╫──╫─┤M├──────────────────\n",
       "      ├───┤     │          │├───┤ ║  ║  ║ └╥┘┌─┐               \n",
       " q_4: ┤ H ├─────┤4         ├┤ H ├─╫──╫──╫──╫─┤M├───────────────\n",
       "      ├───┤     │          │├───┤ ║  ║  ║  ║ └╥┘┌─┐            \n",
       " q_5: ┤ H ├─────┤5  Oracle ├┤ H ├─╫──╫──╫──╫──╫─┤M├────────────\n",
       "      ├───┤     │          │├───┤ ║  ║  ║  ║  ║ └╥┘┌─┐         \n",
       " q_6: ┤ H ├─────┤6         ├┤ H ├─╫──╫──╫──╫──╫──╫─┤M├─────────\n",
       "      ├───┤     │          │├───┤ ║  ║  ║  ║  ║  ║ └╥┘┌─┐      \n",
       " q_7: ┤ H ├─────┤7         ├┤ H ├─╫──╫──╫──╫──╫──╫──╫─┤M├──────\n",
       "      ├───┤     │          │├───┤ ║  ║  ║  ║  ║  ║  ║ └╥┘┌─┐   \n",
       " q_8: ┤ H ├─────┤8         ├┤ H ├─╫──╫──╫──╫──╫──╫──╫──╫─┤M├───\n",
       "      ├───┤     │          │├───┤ ║  ║  ║  ║  ║  ║  ║  ║ └╥┘┌─┐\n",
       " q_9: ┤ H ├─────┤9         ├┤ H ├─╫──╫──╫──╫──╫──╫──╫──╫──╫─┤M├\n",
       "      ├───┤┌───┐│          │└───┘ ║  ║  ║  ║  ║  ║  ║  ║  ║ └╥┘\n",
       "q_10: ┤ X ├┤ H ├┤10        ├──────╫──╫──╫──╫──╫──╫──╫──╫──╫──╫─\n",
       "      └───┘└───┘└──────────┘      ║  ║  ║  ║  ║  ║  ║  ║  ║  ║ \n",
       "c: 10/════════════════════════════╩══╩══╩══╩══╩══╩══╩══╩══╩══╩═\n",
       "                                  0  1  2  3  4  5  6  7  8  9 "
      ]
     },
     "execution_count": 14,
     "metadata": {},
     "output_type": "execute_result"
    }
   ],
   "source": [
    "qc.draw()"
   ]
  },
  {
   "cell_type": "code",
   "execution_count": 15,
   "metadata": {},
   "outputs": [
    {
     "data": {
      "image/png": "[encoded data removed]",
      "text/plain": [
       "<Figure size 504x360 with 1 Axes>"
      ]
     },
     "execution_count": 15,
     "metadata": {},
     "output_type": "execute_result"
    }
   ],
   "source": [
    "backend = BasicAer.get_backend('qasm_simulator')\n",
    "shots = 1024\n",
    "results = execute(qc,backend=backend,shots=shots).result()\n",
    "answer = results.get_counts()\n",
    "\n",
    "plot_histogram(answer)"
   ]
  },
  {
   "cell_type": "code",
   "execution_count": null,
   "metadata": {},
   "outputs": [],
   "source": []
  }
 ],
 "metadata": {
  "kernelspec": {
   "display_name": "Python 3",
   "language": "python",
   "name": "python3"
  },
  "language_info": {
   "codemirror_mode": {
    "name": "ipython",
    "version": 3
   },
   "file_extension": ".py",
   "mimetype": "text/x-python",
   "name": "python",
   "nbconvert_exporter": "python",
   "pygments_lexer": "ipython3",
   "version": "3.8.3"
  }
 },
 "nbformat": 4,
 "nbformat_minor": 4
}
