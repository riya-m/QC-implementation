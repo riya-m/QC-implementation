{
 "cells": [
  {
   "cell_type": "code",
   "execution_count": 1,
   "metadata": {},
   "outputs": [],
   "source": [
    "from qiskit import *\n",
    "from qiskit.visualization import plot_histogram"
   ]
  },
  {
   "cell_type": "code",
   "execution_count": 2,
   "metadata": {},
   "outputs": [],
   "source": [
    "#superdense coding allows us to send two classical bits of information by using only one quantum bit!\n",
    "#it is in a way inverse of quantum teleportation \n",
    "\n",
    "#let us assume alice wants to send two classical bits of information to bob using only one quantum bit\n",
    "\n",
    "#the protocol starts with creating a bell pair and giving one-one qubit to bob and alice from the bell pair"
   ]
  },
  {
   "cell_type": "code",
   "execution_count": 2,
   "metadata": {},
   "outputs": [],
   "source": [
    "#creating a bell pair\n",
    "\n",
    "def create_bell(qc):\n",
    "    qc.h(0)\n",
    "    qc.cx(0,1)"
   ]
  },
  {
   "cell_type": "code",
   "execution_count": 4,
   "metadata": {},
   "outputs": [],
   "source": [
    "#now for two bits there are four possible messages that alice can send, they are - 01, 10, 00, and 11"
   ]
  },
  {
   "cell_type": "code",
   "execution_count": 3,
   "metadata": {},
   "outputs": [],
   "source": [
    "#we create a function which applies the required gates to the bell pair according to the bits alice wants to send\n",
    "# I for - '00'\n",
    "# Z for - '01'\n",
    "# X for - '10'\n",
    "# ZX for - '11'"
   ]
  },
  {
   "cell_type": "code",
   "execution_count": 4,
   "metadata": {},
   "outputs": [],
   "source": [
    "def alice_gate(qc,num):\n",
    "    if num == \"00\":\n",
    "        qc.i(0)\n",
    "    elif num == \"01\":\n",
    "        qc.z(0)\n",
    "    elif num == \"10\":\n",
    "        qc.x(0)\n",
    "    else:\n",
    "        qc.z(0)\n",
    "        qc.x(0)"
   ]
  },
  {
   "cell_type": "code",
   "execution_count": 7,
   "metadata": {},
   "outputs": [],
   "source": [
    "#now we for extracting the information bob applies a CNOT followed by a hadamard gate"
   ]
  },
  {
   "cell_type": "code",
   "execution_count": 5,
   "metadata": {},
   "outputs": [],
   "source": [
    "def bob_gate(qc):\n",
    "    qc.cx(0,1)\n",
    "    qc.h(0)"
   ]
  },
  {
   "cell_type": "code",
   "execution_count": 6,
   "metadata": {},
   "outputs": [
    {
     "data": {
      "text/html": [
       "<pre style=\"word-wrap: normal;white-space: pre;background: #fff0;line-height: 1.1;font-family: &quot;Courier New&quot;,Courier,monospace\">        ┌───┐      ░ ┌───┐┌───┐ ░      ┌───┐ ░  ░ ┌─┐   \n",
       "   q_0: ┤ H ├──■───░─┤ Z ├┤ X ├─░───■──┤ H ├─░──░─┤M├───\n",
       "        └───┘┌─┴─┐ ░ └───┘└───┘ ░ ┌─┴─┐└───┘ ░  ░ └╥┘┌─┐\n",
       "   q_1: ─────┤ X ├─░────────────░─┤ X ├──────░──░──╫─┤M├\n",
       "             └───┘ ░            ░ └───┘      ░  ░  ║ └╥┘\n",
       "meas: 2/═══════════════════════════════════════════╩══╩═\n",
       "                                                   0  1 </pre>"
      ],
      "text/plain": [
       "        ┌───┐      ░ ┌───┐┌───┐ ░      ┌───┐ ░  ░ ┌─┐   \n",
       "   q_0: ┤ H ├──■───░─┤ Z ├┤ X ├─░───■──┤ H ├─░──░─┤M├───\n",
       "        └───┘┌─┴─┐ ░ └───┘└───┘ ░ ┌─┴─┐└───┘ ░  ░ └╥┘┌─┐\n",
       "   q_1: ─────┤ X ├─░────────────░─┤ X ├──────░──░──╫─┤M├\n",
       "             └───┘ ░            ░ └───┘      ░  ░  ║ └╥┘\n",
       "meas: 2/═══════════════════════════════════════════╩══╩═\n",
       "                                                   0  1 "
      ]
     },
     "execution_count": 6,
     "metadata": {},
     "output_type": "execute_result"
    }
   ],
   "source": [
    "#the quantum circuit for superdense coding\n",
    "qc = QuantumCircuit(2)\n",
    "\n",
    "#step-1\n",
    "create_bell(qc)\n",
    "qc.barrier()\n",
    "\n",
    "#step-2\n",
    "num = \"11\" #bits alice wants to send\n",
    "alice_gate(qc,num)\n",
    "qc.barrier()\n",
    "\n",
    "#step-3\n",
    "bob_gate(qc)\n",
    "qc.barrier()\n",
    "\n",
    "qc.measure_all()\n",
    "qc.draw()"
   ]
  },
  {
   "cell_type": "code",
   "execution_count": 7,
   "metadata": {},
   "outputs": [
    {
     "ename": "NameError",
     "evalue": "name 'BasicAer' is not defined",
     "output_type": "error",
     "traceback": [
      "\u001b[1;31m---------------------------------------------------------------------------\u001b[0m",
      "\u001b[1;31mNameError\u001b[0m                                 Traceback (most recent call last)",
      "\u001b[1;32m<ipython-input-7-75cd2ebcb88d>\u001b[0m in \u001b[0;36m<module>\u001b[1;34m\u001b[0m\n\u001b[0;32m      1\u001b[0m \u001b[1;31m#using a simulator to check our result\u001b[0m\u001b[1;33m\u001b[0m\u001b[1;33m\u001b[0m\u001b[1;33m\u001b[0m\u001b[0m\n\u001b[0;32m      2\u001b[0m \u001b[1;33m\u001b[0m\u001b[0m\n\u001b[1;32m----> 3\u001b[1;33m \u001b[0mbackend\u001b[0m \u001b[1;33m=\u001b[0m \u001b[0mBasicAer\u001b[0m\u001b[1;33m.\u001b[0m\u001b[0mget_backend\u001b[0m\u001b[1;33m(\u001b[0m\u001b[1;34m'qasm_simulator'\u001b[0m\u001b[1;33m)\u001b[0m\u001b[1;33m\u001b[0m\u001b[1;33m\u001b[0m\u001b[0m\n\u001b[0m\u001b[0;32m      4\u001b[0m \u001b[0mshots\u001b[0m \u001b[1;33m=\u001b[0m \u001b[1;36m1024\u001b[0m\u001b[1;33m\u001b[0m\u001b[1;33m\u001b[0m\u001b[0m\n\u001b[0;32m      5\u001b[0m \u001b[0mresults\u001b[0m \u001b[1;33m=\u001b[0m \u001b[0mexecute\u001b[0m\u001b[1;33m(\u001b[0m\u001b[0mqc\u001b[0m\u001b[1;33m,\u001b[0m\u001b[0mbackend\u001b[0m\u001b[1;33m=\u001b[0m\u001b[0mbackend\u001b[0m\u001b[1;33m,\u001b[0m\u001b[0mshots\u001b[0m\u001b[1;33m=\u001b[0m\u001b[0mshots\u001b[0m\u001b[1;33m)\u001b[0m\u001b[1;33m.\u001b[0m\u001b[0mresult\u001b[0m\u001b[1;33m(\u001b[0m\u001b[1;33m)\u001b[0m\u001b[1;33m\u001b[0m\u001b[1;33m\u001b[0m\u001b[0m\n",
      "\u001b[1;31mNameError\u001b[0m: name 'BasicAer' is not defined"
     ]
    }
   ],
   "source": [
    "#using a simulator to check our result\n",
    "\n",
    "backend = BasicAer.get_backend('qasm_simulator')\n",
    "shots = 1024\n",
    "results = execute(qc,backend=backend,shots=shots).result()\n",
    "answer = results.get_counts()\n",
    "\n",
    "plot_histogram(answer)"
   ]
  },
  {
   "cell_type": "code",
   "execution_count": null,
   "metadata": {},
   "outputs": [],
   "source": []
  }
 ],
 "metadata": {
  "kernelspec": {
   "display_name": "Python 3",
   "language": "python",
   "name": "python3"
  },
  "language_info": {
   "codemirror_mode": {
    "name": "ipython",
    "version": 3
   },
   "file_extension": ".py",
   "mimetype": "text/x-python",
   "name": "python",
   "nbconvert_exporter": "python",
   "pygments_lexer": "ipython3",
   "version": "3.8.3"
  }
 },
 "nbformat": 4,
 "nbformat_minor": 4
}
