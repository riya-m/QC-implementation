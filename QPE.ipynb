{
 "cells": [
  {
   "cell_type": "code",
   "execution_count": 70,
   "metadata": {},
   "outputs": [],
   "source": [
    "import matplotlib.pyplot as plt\n",
    "import numpy as np\n",
    "from numpy import pi\n",
    "from qiskit import *\n",
    "from qiskit.visualization import plot_histogram"
   ]
  },
  {
   "cell_type": "code",
   "execution_count": 103,
   "metadata": {},
   "outputs": [],
   "source": [
    "counting_bits = 4\n",
    "psi = 1\n",
    "qpe = QuantumCircuit( counting_bits + psi, counting_bits)"
   ]
  },
  {
   "cell_type": "code",
   "execution_count": 104,
   "metadata": {},
   "outputs": [
    {
     "data": {
      "text/plain": [
       "<qiskit.circuit.instructionset.InstructionSet at 0x22f91908d30>"
      ]
     },
     "execution_count": 104,
     "metadata": {},
     "output_type": "execute_result"
    }
   ],
   "source": [
    "qpe.x(counting_bits)"
   ]
  },
  {
   "cell_type": "code",
   "execution_count": 105,
   "metadata": {},
   "outputs": [],
   "source": [
    "for i in range(counting_bits):\n",
    "    qpe.h(i)\n",
    "n = 0\n",
    "angle = 2*pi/8\n",
    "for i in range(counting_bits):\n",
    "    for j in range(pow(2,n)):\n",
    "        qpe.cp(angle,n,counting_bits)\n",
    "    n += 1"
   ]
  },
  {
   "cell_type": "code",
   "execution_count": 106,
   "metadata": {},
   "outputs": [
    {
     "data": {
      "text/html": [
       "<pre style=\"word-wrap: normal;white-space: pre;background: #fff0;line-height: 1.1;font-family: &quot;Courier New&quot;,Courier,monospace\">     ┌───┐                                                            »\n",
       "q_0: ┤ H ├────■───────────────────────────────────────────────────────»\n",
       "     ├───┤    │                                                       »\n",
       "q_1: ┤ H ├────┼─────────■─────────■───────────────────────────────────»\n",
       "     ├───┤    │         │         │                                   »\n",
       "q_2: ┤ H ├────┼─────────┼─────────┼─────────■─────────■─────────■─────»\n",
       "     ├───┤    │         │         │         │         │         │     »\n",
       "q_3: ┤ H ├────┼─────────┼─────────┼─────────┼─────────┼─────────┼─────»\n",
       "     ├───┤┌───┴────┐┌───┴────┐┌───┴────┐┌───┴────┐┌───┴────┐┌───┴────┐»\n",
       "q_4: ┤ X ├┤ P(π/4) ├┤ P(π/4) ├┤ P(π/4) ├┤ P(π/4) ├┤ P(π/4) ├┤ P(π/4) ├»\n",
       "     └───┘└────────┘└────────┘└────────┘└────────┘└────────┘└────────┘»\n",
       "c: 4/═════════════════════════════════════════════════════════════════»\n",
       "                                                                      »\n",
       "«                                                                           »\n",
       "«q_0: ──────────────────────────────────────────────────────────────────────»\n",
       "«                                                                           »\n",
       "«q_1: ──────────────────────────────────────────────────────────────────────»\n",
       "«                                                                           »\n",
       "«q_2: ────■─────────────────────────────────────────────────────────────────»\n",
       "«         │                                                                 »\n",
       "«q_3: ────┼─────────■─────────■─────────■─────────■─────────■─────────■─────»\n",
       "«     ┌───┴────┐┌───┴────┐┌───┴────┐┌───┴────┐┌───┴────┐┌───┴────┐┌───┴────┐»\n",
       "«q_4: ┤ P(π/4) ├┤ P(π/4) ├┤ P(π/4) ├┤ P(π/4) ├┤ P(π/4) ├┤ P(π/4) ├┤ P(π/4) ├»\n",
       "«     └────────┘└────────┘└────────┘└────────┘└────────┘└────────┘└────────┘»\n",
       "«c: 4/══════════════════════════════════════════════════════════════════════»\n",
       "«                                                                           »\n",
       "«                         \n",
       "«q_0: ────────────────────\n",
       "«                         \n",
       "«q_1: ────────────────────\n",
       "«                         \n",
       "«q_2: ────────────────────\n",
       "«                         \n",
       "«q_3: ────■─────────■─────\n",
       "«     ┌───┴────┐┌───┴────┐\n",
       "«q_4: ┤ P(π/4) ├┤ P(π/4) ├\n",
       "«     └────────┘└────────┘\n",
       "«c: 4/════════════════════\n",
       "«                         </pre>"
      ],
      "text/plain": [
       "     ┌───┐                                                            »\n",
       "q_0: ┤ H ├────■───────────────────────────────────────────────────────»\n",
       "     ├───┤    │                                                       »\n",
       "q_1: ┤ H ├────┼─────────■─────────■───────────────────────────────────»\n",
       "     ├───┤    │         │         │                                   »\n",
       "q_2: ┤ H ├────┼─────────┼─────────┼─────────■─────────■─────────■─────»\n",
       "     ├───┤    │         │         │         │         │         │     »\n",
       "q_3: ┤ H ├────┼─────────┼─────────┼─────────┼─────────┼─────────┼─────»\n",
       "     ├───┤┌───┴────┐┌───┴────┐┌───┴────┐┌───┴────┐┌───┴────┐┌───┴────┐»\n",
       "q_4: ┤ X ├┤ P(π/4) ├┤ P(π/4) ├┤ P(π/4) ├┤ P(π/4) ├┤ P(π/4) ├┤ P(π/4) ├»\n",
       "     └───┘└────────┘└────────┘└────────┘└────────┘└────────┘└────────┘»\n",
       "c: 4/═════════════════════════════════════════════════════════════════»\n",
       "                                                                      »\n",
       "«                                                                           »\n",
       "«q_0: ──────────────────────────────────────────────────────────────────────»\n",
       "«                                                                           »\n",
       "«q_1: ──────────────────────────────────────────────────────────────────────»\n",
       "«                                                                           »\n",
       "«q_2: ────■─────────────────────────────────────────────────────────────────»\n",
       "«         │                                                                 »\n",
       "«q_3: ────┼─────────■─────────■─────────■─────────■─────────■─────────■─────»\n",
       "«     ┌───┴────┐┌───┴────┐┌───┴────┐┌───┴────┐┌───┴────┐┌───┴────┐┌───┴────┐»\n",
       "«q_4: ┤ P(π/4) ├┤ P(π/4) ├┤ P(π/4) ├┤ P(π/4) ├┤ P(π/4) ├┤ P(π/4) ├┤ P(π/4) ├»\n",
       "«     └────────┘└────────┘└────────┘└────────┘└────────┘└────────┘└────────┘»\n",
       "«c: 4/══════════════════════════════════════════════════════════════════════»\n",
       "«                                                                           »\n",
       "«                         \n",
       "«q_0: ────────────────────\n",
       "«                         \n",
       "«q_1: ────────────────────\n",
       "«                         \n",
       "«q_2: ────────────────────\n",
       "«                         \n",
       "«q_3: ────■─────────■─────\n",
       "«     ┌───┴────┐┌───┴────┐\n",
       "«q_4: ┤ P(π/4) ├┤ P(π/4) ├\n",
       "«     └────────┘└────────┘\n",
       "«c: 4/════════════════════\n",
       "«                         "
      ]
     },
     "execution_count": 106,
     "metadata": {},
     "output_type": "execute_result"
    }
   ],
   "source": [
    "qpe.draw()"
   ]
  },
  {
   "cell_type": "code",
   "execution_count": 107,
   "metadata": {},
   "outputs": [],
   "source": [
    "def inverse_qft(qc,n):\n",
    "    for i in range(n//2):\n",
    "        qc.swap(i,n-i-1)\n",
    "    for i in range(n):\n",
    "        for j in range(i):\n",
    "            qc.cp(-pi/float(2**(i-j)), j, i)\n",
    "        qc.h(i)"
   ]
  },
  {
   "cell_type": "code",
   "execution_count": 108,
   "metadata": {},
   "outputs": [],
   "source": [
    "qpe.barrier()\n",
    "inverse_qft(qpe,counting_bits)\n",
    "qpe.barrier()\n",
    "for i in range(counting_bits):\n",
    "    qpe.measure(i,i)"
   ]
  },
  {
   "cell_type": "code",
   "execution_count": 109,
   "metadata": {},
   "outputs": [
    {
     "data": {
      "text/html": [
       "<pre style=\"word-wrap: normal;white-space: pre;background: #fff0;line-height: 1.1;font-family: &quot;Courier New&quot;,Courier,monospace\">     ┌───┐                                                            »\n",
       "q_0: ┤ H ├────■───────────────────────────────────────────────────────»\n",
       "     ├───┤    │                                                       »\n",
       "q_1: ┤ H ├────┼─────────■─────────■───────────────────────────────────»\n",
       "     ├───┤    │         │         │                                   »\n",
       "q_2: ┤ H ├────┼─────────┼─────────┼─────────■─────────■─────────■─────»\n",
       "     ├───┤    │         │         │         │         │         │     »\n",
       "q_3: ┤ H ├────┼─────────┼─────────┼─────────┼─────────┼─────────┼─────»\n",
       "     ├───┤┌───┴────┐┌───┴────┐┌───┴────┐┌───┴────┐┌───┴────┐┌───┴────┐»\n",
       "q_4: ┤ X ├┤ P(π/4) ├┤ P(π/4) ├┤ P(π/4) ├┤ P(π/4) ├┤ P(π/4) ├┤ P(π/4) ├»\n",
       "     └───┘└────────┘└────────┘└────────┘└────────┘└────────┘└────────┘»\n",
       "c: 4/═════════════════════════════════════════════════════════════════»\n",
       "                                                                      »\n",
       "«                                                                           »\n",
       "«q_0: ──────────────────────────────────────────────────────────────────────»\n",
       "«                                                                           »\n",
       "«q_1: ──────────────────────────────────────────────────────────────────────»\n",
       "«                                                                           »\n",
       "«q_2: ────■─────────────────────────────────────────────────────────────────»\n",
       "«         │                                                                 »\n",
       "«q_3: ────┼─────────■─────────■─────────■─────────■─────────■─────────■─────»\n",
       "«     ┌───┴────┐┌───┴────┐┌───┴────┐┌───┴────┐┌───┴────┐┌───┴────┐┌───┴────┐»\n",
       "«q_4: ┤ P(π/4) ├┤ P(π/4) ├┤ P(π/4) ├┤ P(π/4) ├┤ P(π/4) ├┤ P(π/4) ├┤ P(π/4) ├»\n",
       "«     └────────┘└────────┘└────────┘└────────┘└────────┘└────────┘└────────┘»\n",
       "«c: 4/══════════════════════════════════════════════════════════════════════»\n",
       "«                                                                           »\n",
       "«                          ░    ┌───┐                                      »\n",
       "«q_0: ─────────────────────░──X─┤ H ├─────■───────────────■────────────────»\n",
       "«                          ░  │ └───┘┌────┴────┐┌───┐     │                »\n",
       "«q_1: ─────────────────────░──┼───X──┤ P(-π/2) ├┤ H ├─────┼──────────■─────»\n",
       "«                          ░  │   │  └─────────┘└───┘┌────┴────┐┌────┴────┐»\n",
       "«q_2: ─────────────────────░──┼───X──────────────────┤ P(-π/4) ├┤ P(-π/2) ├»\n",
       "«                          ░  │                      └─────────┘└─────────┘»\n",
       "«q_3: ────■─────────■──────░──X────────────────────────────────────────────»\n",
       "«     ┌───┴────┐┌───┴────┐ ░                                               »\n",
       "«q_4: ┤ P(π/4) ├┤ P(π/4) ├─░───────────────────────────────────────────────»\n",
       "«     └────────┘└────────┘ ░                                               »\n",
       "«c: 4/═════════════════════════════════════════════════════════════════════»\n",
       "«                                                                          »\n",
       "«                                                 ░ ┌─┐         \n",
       "«q_0: ─────■──────────────────────────────────────░─┤M├─────────\n",
       "«          │                                      ░ └╥┘┌─┐      \n",
       "«q_1: ─────┼───────────────■──────────────────────░──╫─┤M├──────\n",
       "«          │     ┌───┐     │                      ░  ║ └╥┘┌─┐   \n",
       "«q_2: ─────┼─────┤ H ├─────┼──────────■───────────░──╫──╫─┤M├───\n",
       "«     ┌────┴────┐└───┘┌────┴────┐┌────┴────┐┌───┐ ░  ║  ║ └╥┘┌─┐\n",
       "«q_3: ┤ P(-π/8) ├─────┤ P(-π/4) ├┤ P(-π/2) ├┤ H ├─░──╫──╫──╫─┤M├\n",
       "«     └─────────┘     └─────────┘└─────────┘└───┘ ░  ║  ║  ║ └╥┘\n",
       "«q_4: ────────────────────────────────────────────░──╫──╫──╫──╫─\n",
       "«                                                 ░  ║  ║  ║  ║ \n",
       "«c: 4/═══════════════════════════════════════════════╩══╩══╩══╩═\n",
       "«                                                    0  1  2  3 </pre>"
      ],
      "text/plain": [
       "     ┌───┐                                                            »\n",
       "q_0: ┤ H ├────■───────────────────────────────────────────────────────»\n",
       "     ├───┤    │                                                       »\n",
       "q_1: ┤ H ├────┼─────────■─────────■───────────────────────────────────»\n",
       "     ├───┤    │         │         │                                   »\n",
       "q_2: ┤ H ├────┼─────────┼─────────┼─────────■─────────■─────────■─────»\n",
       "     ├───┤    │         │         │         │         │         │     »\n",
       "q_3: ┤ H ├────┼─────────┼─────────┼─────────┼─────────┼─────────┼─────»\n",
       "     ├───┤┌───┴────┐┌───┴────┐┌───┴────┐┌───┴────┐┌───┴────┐┌───┴────┐»\n",
       "q_4: ┤ X ├┤ P(π/4) ├┤ P(π/4) ├┤ P(π/4) ├┤ P(π/4) ├┤ P(π/4) ├┤ P(π/4) ├»\n",
       "     └───┘└────────┘└────────┘└────────┘└────────┘└────────┘└────────┘»\n",
       "c: 4/═════════════════════════════════════════════════════════════════»\n",
       "                                                                      »\n",
       "«                                                                           »\n",
       "«q_0: ──────────────────────────────────────────────────────────────────────»\n",
       "«                                                                           »\n",
       "«q_1: ──────────────────────────────────────────────────────────────────────»\n",
       "«                                                                           »\n",
       "«q_2: ────■─────────────────────────────────────────────────────────────────»\n",
       "«         │                                                                 »\n",
       "«q_3: ────┼─────────■─────────■─────────■─────────■─────────■─────────■─────»\n",
       "«     ┌───┴────┐┌───┴────┐┌───┴────┐┌───┴────┐┌───┴────┐┌───┴────┐┌───┴────┐»\n",
       "«q_4: ┤ P(π/4) ├┤ P(π/4) ├┤ P(π/4) ├┤ P(π/4) ├┤ P(π/4) ├┤ P(π/4) ├┤ P(π/4) ├»\n",
       "«     └────────┘└────────┘└────────┘└────────┘└────────┘└────────┘└────────┘»\n",
       "«c: 4/══════════════════════════════════════════════════════════════════════»\n",
       "«                                                                           »\n",
       "«                          ░    ┌───┐                                      »\n",
       "«q_0: ─────────────────────░──X─┤ H ├─────■───────────────■────────────────»\n",
       "«                          ░  │ └───┘┌────┴────┐┌───┐     │                »\n",
       "«q_1: ─────────────────────░──┼───X──┤ P(-π/2) ├┤ H ├─────┼──────────■─────»\n",
       "«                          ░  │   │  └─────────┘└───┘┌────┴────┐┌────┴────┐»\n",
       "«q_2: ─────────────────────░──┼───X──────────────────┤ P(-π/4) ├┤ P(-π/2) ├»\n",
       "«                          ░  │                      └─────────┘└─────────┘»\n",
       "«q_3: ────■─────────■──────░──X────────────────────────────────────────────»\n",
       "«     ┌───┴────┐┌───┴────┐ ░                                               »\n",
       "«q_4: ┤ P(π/4) ├┤ P(π/4) ├─░───────────────────────────────────────────────»\n",
       "«     └────────┘└────────┘ ░                                               »\n",
       "«c: 4/═════════════════════════════════════════════════════════════════════»\n",
       "«                                                                          »\n",
       "«                                                 ░ ┌─┐         \n",
       "«q_0: ─────■──────────────────────────────────────░─┤M├─────────\n",
       "«          │                                      ░ └╥┘┌─┐      \n",
       "«q_1: ─────┼───────────────■──────────────────────░──╫─┤M├──────\n",
       "«          │     ┌───┐     │                      ░  ║ └╥┘┌─┐   \n",
       "«q_2: ─────┼─────┤ H ├─────┼──────────■───────────░──╫──╫─┤M├───\n",
       "«     ┌────┴────┐└───┘┌────┴────┐┌────┴────┐┌───┐ ░  ║  ║ └╥┘┌─┐\n",
       "«q_3: ┤ P(-π/8) ├─────┤ P(-π/4) ├┤ P(-π/2) ├┤ H ├─░──╫──╫──╫─┤M├\n",
       "«     └─────────┘     └─────────┘└─────────┘└───┘ ░  ║  ║  ║ └╥┘\n",
       "«q_4: ────────────────────────────────────────────░──╫──╫──╫──╫─\n",
       "«                                                 ░  ║  ║  ║  ║ \n",
       "«c: 4/═══════════════════════════════════════════════╩══╩══╩══╩═\n",
       "«                                                    0  1  2  3 "
      ]
     },
     "execution_count": 109,
     "metadata": {},
     "output_type": "execute_result"
    }
   ],
   "source": [
    "qpe.draw()"
   ]
  },
  {
   "cell_type": "code",
   "execution_count": 110,
   "metadata": {},
   "outputs": [
    {
     "data": {
      "image/png": "[encoded data removed]",
      "text/plain": [
       "<Figure size 504x360 with 1 Axes>"
      ]
     },
     "execution_count": 110,
     "metadata": {},
     "output_type": "execute_result"
    }
   ],
   "source": [
    "backend = BasicAer.get_backend('qasm_simulator')\n",
    "shots = 1024\n",
    "results = execute(qpe,backend=backend,shots=shots).result()\n",
    "answer = results.get_counts()\n",
    "\n",
    "plot_histogram(answer)"
   ]
  },
  {
   "cell_type": "code",
   "execution_count": null,
   "metadata": {},
   "outputs": [],
   "source": []
  },
  {
   "cell_type": "code",
   "execution_count": null,
   "metadata": {},
   "outputs": [],
   "source": []
  }
 ],
 "metadata": {
  "kernelspec": {
   "display_name": "Python 3",
   "language": "python",
   "name": "python3"
  },
  "language_info": {
   "codemirror_mode": {
    "name": "ipython",
    "version": 3
   },
   "file_extension": ".py",
   "mimetype": "text/x-python",
   "name": "python",
   "nbconvert_exporter": "python",
   "pygments_lexer": "ipython3",
   "version": "3.8.3"
  }
 },
 "nbformat": 4,
 "nbformat_minor": 4
}
