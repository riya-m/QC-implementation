{
 "cells": [
  {
   "cell_type": "code",
   "execution_count": 16,
   "metadata": {},
   "outputs": [],
   "source": [
    "from qiskit import *\n",
    "from qiskit.tools.visualization import plot_histogram\n",
    "import numpy as np\n",
    "%matplotlib inline"
   ]
  },
  {
   "cell_type": "code",
   "execution_count": 88,
   "metadata": {},
   "outputs": [],
   "source": [
    "n = 5\n",
    "state = 'balanced'"
   ]
  },
  {
   "cell_type": "code",
   "execution_count": 89,
   "metadata": {},
   "outputs": [],
   "source": [
    "def oracle(n,state):\n",
    "    qc_oracle = QuantumCircuit(n+1)\n",
    "    \n",
    "    if state == 'constant':\n",
    "        num = np.random.randint(2)\n",
    "        if num == 1:\n",
    "            qc_oracle.x(n)\n",
    "    \n",
    "    if state == 'balanced':\n",
    "        for i in range(n):\n",
    "            qc_oracle.cx(i,n)\n",
    "    oracle_gate = qc_oracle.to_gate()\n",
    "    oracle_gate.name = \"Oracle\"\n",
    "    return oracle_gate"
   ]
  },
  {
   "cell_type": "code",
   "execution_count": 90,
   "metadata": {},
   "outputs": [
    {
     "data": {
      "text/plain": [
       "<qiskit.circuit.instructionset.InstructionSet at 0x22e7f79df40>"
      ]
     },
     "execution_count": 90,
     "metadata": {},
     "output_type": "execute_result"
    }
   ],
   "source": [
    "qc = QuantumCircuit(n+1,n)\n",
    "\n",
    "qc.x(n)\n",
    "qc.h(n)"
   ]
  },
  {
   "cell_type": "code",
   "execution_count": 91,
   "metadata": {},
   "outputs": [],
   "source": [
    "for i in range(n):\n",
    "    qc.h(i)\n",
    "    \n",
    "dj_oracle = oracle(n,state)\n",
    "qc.append(dj_oracle,range(n+1))\n",
    "\n",
    "for i in range(n):\n",
    "    qc.h(i)\n",
    "for i in range(n):\n",
    "    qc.measure(i,i)"
   ]
  },
  {
   "cell_type": "code",
   "execution_count": 92,
   "metadata": {},
   "outputs": [
    {
     "data": {
      "text/html": [
       "<pre style=\"word-wrap: normal;white-space: pre;background: #fff0;line-height: 1.1;font-family: &quot;Courier New&quot;,Courier,monospace\">     ┌───┐     ┌─────────┐┌───┐┌─┐            \n",
       "q_0: ┤ H ├─────┤0        ├┤ H ├┤M├────────────\n",
       "     ├───┤     │         │├───┤└╥┘┌─┐         \n",
       "q_1: ┤ H ├─────┤1        ├┤ H ├─╫─┤M├─────────\n",
       "     ├───┤     │         │├───┤ ║ └╥┘┌─┐      \n",
       "q_2: ┤ H ├─────┤2        ├┤ H ├─╫──╫─┤M├──────\n",
       "     ├───┤     │  Oracle │├───┤ ║  ║ └╥┘┌─┐   \n",
       "q_3: ┤ H ├─────┤3        ├┤ H ├─╫──╫──╫─┤M├───\n",
       "     ├───┤     │         │├───┤ ║  ║  ║ └╥┘┌─┐\n",
       "q_4: ┤ H ├─────┤4        ├┤ H ├─╫──╫──╫──╫─┤M├\n",
       "     ├───┤┌───┐│         │└───┘ ║  ║  ║  ║ └╥┘\n",
       "q_5: ┤ X ├┤ H ├┤5        ├──────╫──╫──╫──╫──╫─\n",
       "     └───┘└───┘└─────────┘      ║  ║  ║  ║  ║ \n",
       "c: 5/═══════════════════════════╩══╩══╩══╩══╩═\n",
       "                                0  1  2  3  4 </pre>"
      ],
      "text/plain": [
       "     ┌───┐     ┌─────────┐┌───┐┌─┐            \n",
       "q_0: ┤ H ├─────┤0        ├┤ H ├┤M├────────────\n",
       "     ├───┤     │         │├───┤└╥┘┌─┐         \n",
       "q_1: ┤ H ├─────┤1        ├┤ H ├─╫─┤M├─────────\n",
       "     ├───┤     │         │├───┤ ║ └╥┘┌─┐      \n",
       "q_2: ┤ H ├─────┤2        ├┤ H ├─╫──╫─┤M├──────\n",
       "     ├───┤     │  Oracle │├───┤ ║  ║ └╥┘┌─┐   \n",
       "q_3: ┤ H ├─────┤3        ├┤ H ├─╫──╫──╫─┤M├───\n",
       "     ├───┤     │         │├───┤ ║  ║  ║ └╥┘┌─┐\n",
       "q_4: ┤ H ├─────┤4        ├┤ H ├─╫──╫──╫──╫─┤M├\n",
       "     ├───┤┌───┐│         │└───┘ ║  ║  ║  ║ └╥┘\n",
       "q_5: ┤ X ├┤ H ├┤5        ├──────╫──╫──╫──╫──╫─\n",
       "     └───┘└───┘└─────────┘      ║  ║  ║  ║  ║ \n",
       "c: 5/═══════════════════════════╩══╩══╩══╩══╩═\n",
       "                                0  1  2  3  4 "
      ]
     },
     "execution_count": 92,
     "metadata": {},
     "output_type": "execute_result"
    }
   ],
   "source": [
    "qc.draw()"
   ]
  },
  {
   "cell_type": "code",
   "execution_count": 93,
   "metadata": {},
   "outputs": [
    {
     "data": {
      "image/png": "[encoded data removed]",
      "text/plain": [
       "<Figure size 504x360 with 1 Axes>"
      ]
     },
     "execution_count": 93,
     "metadata": {},
     "output_type": "execute_result"
    }
   ],
   "source": [
    "backend = BasicAer.get_backend('qasm_simulator')\n",
    "shots = 1024\n",
    "results = execute(qc,backend=backend,shots=shots).result()\n",
    "answer = results.get_counts()\n",
    "\n",
    "plot_histogram(answer)"
   ]
  },
  {
   "cell_type": "code",
   "execution_count": null,
   "metadata": {},
   "outputs": [],
   "source": []
  },
  {
   "cell_type": "code",
   "execution_count": null,
   "metadata": {
    "scrolled": true
   },
   "outputs": [],
   "source": []
  },
  {
   "cell_type": "code",
   "execution_count": null,
   "metadata": {},
   "outputs": [],
   "source": []
  },
  {
   "cell_type": "code",
   "execution_count": null,
   "metadata": {},
   "outputs": [],
   "source": []
  },
  {
   "cell_type": "code",
   "execution_count": null,
   "metadata": {},
   "outputs": [],
   "source": []
  },
  {
   "cell_type": "code",
   "execution_count": null,
   "metadata": {},
   "outputs": [],
   "source": []
  },
  {
   "cell_type": "code",
   "execution_count": null,
   "metadata": {},
   "outputs": [],
   "source": []
  },
  {
   "cell_type": "code",
   "execution_count": null,
   "metadata": {},
   "outputs": [],
   "source": []
  }
 ],
 "metadata": {
  "kernelspec": {
   "display_name": "Python 3",
   "language": "python",
   "name": "python3"
  },
  "language_info": {
   "codemirror_mode": {
    "name": "ipython",
    "version": 3
   },
   "file_extension": ".py",
   "mimetype": "text/x-python",
   "name": "python",
   "nbconvert_exporter": "python",
   "pygments_lexer": "ipython3",
   "version": "3.8.3"
  }
 },
 "nbformat": 4,
 "nbformat_minor": 4
}
