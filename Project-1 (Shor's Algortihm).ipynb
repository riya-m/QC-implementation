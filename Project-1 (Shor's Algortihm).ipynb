{
 "cells": [
  {
   "cell_type": "code",
   "execution_count": 60,
   "metadata": {},
   "outputs": [],
   "source": [
    "from qiskit import QuantumCircuit, Aer, transpile, assemble\n",
    "from qiskit.visualization import plot_histogram\n",
    "from math import gcd\n",
    "from numpy.random import randint\n",
    "import numpy as np\n",
    "from fractions import Fraction"
   ]
  },
  {
   "cell_type": "code",
   "execution_count": 61,
   "metadata": {},
   "outputs": [],
   "source": [
    "def mod(a, power):\n",
    "    U = QuantumCircuit(16)        \n",
    "    U.x(15)\n",
    "    U.x(0)\n",
    "    U.x(2)\n",
    "    U.x(3)\n",
    "    U = U.to_gate()\n",
    "    c_U = U.control()\n",
    "    return c_U"
   ]
  },
  {
   "cell_type": "code",
   "execution_count": 62,
   "metadata": {},
   "outputs": [],
   "source": [
    "def qft_dagger(n):\n",
    "    \n",
    "    qc = QuantumCircuit(n)\n",
    "    \n",
    "    for qubit in range(n//2):\n",
    "        qc.swap(qubit, n-qubit-1)\n",
    "    for j in range(n):\n",
    "        for m in range(j):\n",
    "            qc.cp(-np.pi/float(2**(j-m)), m, j)\n",
    "        qc.h(j)\n",
    "    \n",
    "    return qc"
   ]
  },
  {
   "cell_type": "code",
   "execution_count": 63,
   "metadata": {},
   "outputs": [],
   "source": [
    "N = 1343\n",
    "a = 13"
   ]
  },
  {
   "cell_type": "code",
   "execution_count": 64,
   "metadata": {},
   "outputs": [],
   "source": [
    "def qpe(a):\n",
    "    n_count = 8\n",
    "    qc = QuantumCircuit(16+n_count, n_count)\n",
    "    \n",
    "    \n",
    "    for q in range(n_count):\n",
    "        qc.h(q)     \n",
    "    qc.x(15+n_count) \n",
    "    \n",
    "    for q in range(n_count): \n",
    "        qc.append(mod(a, 2**q), \n",
    "                 [q] + [i+n_count for i in range(16)])\n",
    "    \n",
    "    qc.append(qft_dagger(n_count), range(n_count)) \n",
    "    qc.measure(range(n_count), range(n_count))\n",
    "    \n",
    "    return qc"
   ]
  },
  {
   "cell_type": "code",
   "execution_count": 65,
   "metadata": {},
   "outputs": [],
   "source": [
    "qc = qpe(a) "
   ]
  },
  {
   "cell_type": "code",
   "execution_count": 66,
   "metadata": {},
   "outputs": [],
   "source": [
    "qasm_sim = Aer.get_backend('qasm_simulator')\n",
    "t_qc = transpile(qc, qasm_sim)\n",
    "obj = assemble(t_qc, shots=1)\n",
    "result = qasm_sim.run(obj, memory=True).result()\n",
    "readings = result.get_memory()\n",
    "phase = int(readings[0],2)/(2**8)"
   ]
  },
  {
   "cell_type": "code",
   "execution_count": 67,
   "metadata": {},
   "outputs": [
    {
     "name": "stdout",
     "output_type": "stream",
     "text": [
      "256\n"
     ]
    }
   ],
   "source": [
    "frac = Fraction(phase).limit_denominator(1343)\n",
    "s, r = frac.numerator, frac.denominator\n",
    "print(r)"
   ]
  },
  {
   "cell_type": "code",
   "execution_count": 68,
   "metadata": {},
   "outputs": [
    {
     "name": "stdout",
     "output_type": "stream",
     "text": [
      "[17, 1]\n"
     ]
    }
   ],
   "source": [
    "guesses = [gcd(a**(r//2)-1, N), gcd(a**(r//2)+1, N)]\n",
    "print(guesses)"
   ]
  },
  {
   "cell_type": "code",
   "execution_count": 69,
   "metadata": {},
   "outputs": [],
   "source": [
    "first_factor = guesses[0]"
   ]
  },
  {
   "cell_type": "code",
   "execution_count": 70,
   "metadata": {},
   "outputs": [
    {
     "name": "stdout",
     "output_type": "stream",
     "text": [
      "17\n"
     ]
    }
   ],
   "source": [
    "print(first_factor)"
   ]
  },
  {
   "cell_type": "code",
   "execution_count": 71,
   "metadata": {},
   "outputs": [],
   "source": [
    "second_factor = int(N/first_factor)"
   ]
  },
  {
   "cell_type": "code",
   "execution_count": 72,
   "metadata": {},
   "outputs": [
    {
     "name": "stdout",
     "output_type": "stream",
     "text": [
      "79\n"
     ]
    }
   ],
   "source": [
    "print(second_factor)"
   ]
  },
  {
   "cell_type": "code",
   "execution_count": 73,
   "metadata": {},
   "outputs": [],
   "source": [
    "def modInverse(a, m):\n",
    "    m0 = m\n",
    "    y = 0\n",
    "    x = 1\n",
    "    if m == 1:\n",
    "        return 0\n",
    "    while a > 1:\n",
    "        # q is quotient\n",
    "        q = a // m\n",
    "        t = m\n",
    "        # m is remainder now, process\n",
    "        # same as Euclid's algo\n",
    "        m = a % m\n",
    "        a = t\n",
    "        t = y\n",
    "        # Update x and y\n",
    "        y = x - q * y\n",
    "        x = t\n",
    "    # Make x positive\n",
    "    if x < 0:\n",
    "        x = x + m0\n",
    "    return x"
   ]
  },
  {
   "cell_type": "code",
   "execution_count": 74,
   "metadata": {},
   "outputs": [],
   "source": [
    "n = 1343\n",
    "#factors of n from shor\n",
    "p = first_factor\n",
    "q = second_factor\n",
    "\n",
    "tf = (p-1) * (q-1)\n",
    "e = 5 \n",
    "\n",
    "enc = 212"
   ]
  },
  {
   "cell_type": "code",
   "execution_count": 75,
   "metadata": {},
   "outputs": [
    {
     "name": "stdout",
     "output_type": "stream",
     "text": [
      "212\n",
      "1233\n"
     ]
    }
   ],
   "source": [
    "#the private key\n",
    "d = modInverse(e, tf)\n",
    "\n",
    "#decrypted msg\n",
    "dec = (enc**d)%n\n",
    "\n",
    "print(enc)\n",
    "print(dec)"
   ]
  },
  {
   "cell_type": "code",
   "execution_count": 43,
   "metadata": {},
   "outputs": [],
   "source": [
    "#decoded message = 1233 \n",
    "#result = pass"
   ]
  },
  {
   "cell_type": "code",
   "execution_count": null,
   "metadata": {},
   "outputs": [],
   "source": []
  }
 ],
 "metadata": {
  "kernelspec": {
   "display_name": "Python 3",
   "language": "python",
   "name": "python3"
  },
  "language_info": {
   "codemirror_mode": {
    "name": "ipython",
    "version": 3
   },
   "file_extension": ".py",
   "mimetype": "text/x-python",
   "name": "python",
   "nbconvert_exporter": "python",
   "pygments_lexer": "ipython3",
   "version": "3.8.3"
  }
 },
 "nbformat": 4,
 "nbformat_minor": 4
}
