{
 "cells": [
  {
   "cell_type": "code",
   "execution_count": 13,
   "metadata": {},
   "outputs": [],
   "source": [
    "from qiskit import *\n",
    "from qiskit.tools.visualization import plot_histogram\n",
    "from qiskit.quantum_info import Operator\n",
    "import numpy as np"
   ]
  },
  {
   "cell_type": "code",
   "execution_count": 14,
   "metadata": {},
   "outputs": [],
   "source": [
    "def uf(n, marked_elements):\n",
    "    qc = QuantumCircuit(n)\n",
    "    matrix = np.identity(2**n)\n",
    "    for i in marked_elements:\n",
    "        matrix[i,i] = -1\n",
    "    qc.unitary(Operator(matrix),range(n))\n",
    "    return qc"
   ]
  },
  {
   "cell_type": "code",
   "execution_count": 15,
   "metadata": {},
   "outputs": [],
   "source": [
    "def V(n):\n",
    "    qc = QuantumCircuit(n)\n",
    "    for i in range(n):\n",
    "        qc.h(i)\n",
    "    qc.append(uf(n,[0]),range(n))\n",
    "    for i in range(n):\n",
    "        qc.h(i)\n",
    "    return qc"
   ]
  },
  {
   "cell_type": "code",
   "execution_count": null,
   "metadata": {},
   "outputs": [],
   "source": []
  },
  {
   "cell_type": "code",
   "execution_count": 16,
   "metadata": {},
   "outputs": [],
   "source": [
    "def grover(n,marked):\n",
    "    qc = QuantumCircuit(n,n)\n",
    "    r = int(round(np.pi/(4*np.arcsin(1/np.sqrt(2**n))) - 1/2))\n",
    "    for i in range(n):\n",
    "        qc.h(i)\n",
    "    for i in range(r):\n",
    "        qc.append(uf(n,marked),range(n))\n",
    "        qc.append(V(n),range(n))\n",
    "    for i in range(n):\n",
    "        qc.measure(i,i)\n",
    "    return qc"
   ]
  },
  {
   "cell_type": "code",
   "execution_count": 39,
   "metadata": {},
   "outputs": [
    {
     "name": "stdout",
     "output_type": "stream",
     "text": [
      "[9, 7]\n"
     ]
    }
   ],
   "source": [
    "n = 4\n",
    "x = np.random.randint(2**n)\n",
    "y = np.random.randint(2**n)\n",
    "while x == y:\n",
    "    y = np.random.randint(2**n)\n",
    "marked = [x,y]\n",
    "qc = grover(n,marked)\n",
    "\n",
    "qc.draw()\n",
    "print(marked)"
   ]
  },
  {
   "cell_type": "code",
   "execution_count": 40,
   "metadata": {},
   "outputs": [
    {
     "name": "stdout",
     "output_type": "stream",
     "text": [
      "{'0111': 176, '1100': 53, '0100': 49, '1001': 160, '0101': 48, '1101': 50, '1111': 52, '0010': 55, '0011': 37, '1010': 47, '0110': 53, '1000': 54, '0000': 53, '0001': 44, '1011': 49, '1110': 44}\n"
     ]
    },
    {
     "data": {
      "image/png": "[encoded data removed]",
      "text/plain": [
       "<Figure size 504x360 with 1 Axes>"
      ]
     },
     "execution_count": 40,
     "metadata": {},
     "output_type": "execute_result"
    }
   ],
   "source": [
    "backend = BasicAer.get_backend('qasm_simulator')\n",
    "shots = 1024\n",
    "results = execute(qc,backend=backend,shots=shots).result()\n",
    "answer = results.get_counts(qc)\n",
    "print(answer)\n",
    "plot_histogram(answer)"
   ]
  },
  {
   "cell_type": "code",
   "execution_count": null,
   "metadata": {},
   "outputs": [],
   "source": []
  }
 ],
 "metadata": {
  "kernelspec": {
   "display_name": "Python 3",
   "language": "python",
   "name": "python3"
  },
  "language_info": {
   "codemirror_mode": {
    "name": "ipython",
    "version": 3
   },
   "file_extension": ".py",
   "mimetype": "text/x-python",
   "name": "python",
   "nbconvert_exporter": "python",
   "pygments_lexer": "ipython3",
   "version": "3.8.3"
  }
 },
 "nbformat": 4,
 "nbformat_minor": 4
}
